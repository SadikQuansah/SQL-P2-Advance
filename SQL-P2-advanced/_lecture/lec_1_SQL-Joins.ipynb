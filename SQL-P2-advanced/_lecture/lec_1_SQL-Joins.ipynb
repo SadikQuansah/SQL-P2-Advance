{
 "cells": [
  {
   "cell_type": "markdown",
   "id": "19e51660",
   "metadata": {},
   "source": [
    "# SQL Joins\n",
    "\n",
    "We talked about joining tables together in Module 1. In this lecture, we are going to revisit this concept again.  \n",
    "![Joins](../assets/sql-joins.png)\n",
    "\n",
    "\n",
    "- LEFT JOIN returns all records from the left table and records from the right table that are found in the left table\n",
    "- RIGHT JOIN returns all records from the right table and records from the left table that are found in the right table (not supported in SQlite)\n",
    "- INNER JOIN only returns records that are present in both tables\n",
    "- FULL JOIN returns all records from both tables (not supported in SQlite)\n",
    "\n",
    "\n",
    "When joining tables together, it's important to understand different types of relationships. \n",
    "\n",
    "- One-to-one\n",
    "- One-to-many\n",
    "- Many-to-many\n",
    "\n",
    "Here is standard SQL syntax for joining tables together\n",
    "\n",
    "<code> SELECT a.col1, a.col2, b.col3, b.col4\n",
    "       FROM table1 a\n",
    "       _LEFT_/_RIGHT_/_INNER_/_FULL_ JOIN table2 b\n",
    "       ON a.col1 = b.col2 </code>\n",
    "\n",
    "More than two tables can be joined in SQL. Column names used to join tables don't need to be the same (unlike Pandas). You can also join on more than two columns\n",
    "\n",
    "<code> SELECT a.col1, a.col2, b.col3, b.col4\n",
    "       FROM table1 a\n",
    "       _LEFT_/_RIGHT_/_INNER_/_FULL_ JOIN table2 b\n",
    "       ON a.col1 = b.col2 and a.col3 = b.col3 </code>\n"
   ]
  },
  {
   "cell_type": "code",
   "execution_count": null,
   "id": "6c932627",
   "metadata": {},
   "outputs": [],
   "source": [
    "import pandas as pd\n",
    "import sqlite3"
   ]
  },
  {
   "cell_type": "code",
   "execution_count": null,
   "id": "177b782d",
   "metadata": {},
   "outputs": [],
   "source": [
    "# create sqlite db\n",
    "info = pd.read_csv(\"../data/customer-info.csv\")\n",
    "loyalty = pd.read_csv(\"../data/customer-loyalty.csv\")\n",
    "sales2019 = pd.read_csv(\"../data/sales2019.csv\")\n",
    "sales2020 = pd.read_csv(\"../data/sales2020.csv\")\n",
    "sales2021 = pd.read_csv(\"../data/sales2021.csv\")\n",
    "zipcode = pd.read_csv(\"../data/Zipcode-ZCTA-Population-Density-And-Area-Unsorted.csv\")\n",
    "conn = sqlite3.connect('../data/generalstore.sqlite') \n",
    "info.to_sql('info',con=conn,index=False,if_exists='replace')\n",
    "loyalty.to_sql('loyalty',con=conn,index=False,if_exists='replace')\n",
    "sales2019.to_sql('sales2019',con=conn,index=False,if_exists='replace')\n",
    "sales2020.to_sql('sales2020',con=conn,index=False,if_exists='replace')\n",
    "sales2021.to_sql('sales2021',con=conn,index=False,if_exists='replace')\n",
    "zipcode.to_sql('zipcode',con=conn,index=False,if_exists='replace')"
   ]
  },
  {
   "cell_type": "code",
   "execution_count": null,
   "id": "031e49ff",
   "metadata": {},
   "outputs": [],
   "source": [
    "#Returns the table name. Including ones that we have used previously. \n",
    "\n",
    "pd.read_sql(\"SELECT name FROM sqlite_master WHERE type='table'\",con=conn)"
   ]
  },
  {
   "cell_type": "code",
   "execution_count": null,
   "id": "ff2c0581",
   "metadata": {},
   "outputs": [],
   "source": [
    "pd.read_sql(\"\"\"SELECT *\n",
    "                FROM info\n",
    "                LIMIT 5\"\"\", conn)"
   ]
  },
  {
   "cell_type": "code",
   "execution_count": null,
   "id": "43512dce",
   "metadata": {},
   "outputs": [],
   "source": [
    "pd.read_sql(\"\"\"SELECT *\n",
    "                FROM zipcode\n",
    "                LIMIT 5\"\"\", conn) # not ideal naming convention"
   ]
  },
  {
   "cell_type": "code",
   "execution_count": null,
   "id": "9b2447ec",
   "metadata": {},
   "outputs": [],
   "source": [
    "## Left join info with zip code\n",
    "pd.read_sql(\"\"\"\n",
    "            SELECT t1.*, t2.*\n",
    "            FROM info t1\n",
    "            LEFT JOIN zipcode t2\n",
    "            ON t1.ZipCode = t2.[Zip/ZCTA]\n",
    "            \"\"\", conn)"
   ]
  },
  {
   "cell_type": "code",
   "execution_count": null,
   "id": "0f15df02",
   "metadata": {},
   "outputs": [],
   "source": [
    "## Inner join info with zip code\n",
    "pd.read_sql(\"\"\"\n",
    "            SELECT t1.*, t2.*\n",
    "            FROM info t1\n",
    "            JOIN zipcode t2\n",
    "            ON t1.ZipCode = t2.[Zip/ZCTA]\n",
    "            \"\"\", conn)"
   ]
  },
  {
   "cell_type": "code",
   "execution_count": null,
   "id": "fc0d918d",
   "metadata": {},
   "outputs": [],
   "source": [
    "# One to Many join\n",
    "pd.read_sql(\"\"\"\n",
    "            SELECT * \n",
    "            FROM info t1\n",
    "            LEFT JOIN Sales2019 t2\n",
    "            ON t1.CustomerID = t2.CustomerID\"\"\", conn) "
   ]
  },
  {
   "cell_type": "code",
   "execution_count": null,
   "id": "b069d661",
   "metadata": {},
   "outputs": [],
   "source": [
    "#One to One join\n",
    "pd.read_sql(\"\"\"\n",
    "            SELECT * \n",
    "            FROM info t1\n",
    "            LEFT JOIN (\n",
    "                    SELECT CUSTOMERID, sum(Sales2019) as Sales2019, count(item_description) as itemcnt\n",
    "                    FROM Sales2019\n",
    "                    GROUP BY CUSTOMERID) t2\n",
    "            ON t1.CustomerID = t2.CustomerID\"\"\", conn) "
   ]
  },
  {
   "cell_type": "code",
   "execution_count": null,
   "id": "18819a31",
   "metadata": {},
   "outputs": [],
   "source": [
    "# # show customer id from 1001 through 1010 - Will fail\n",
    "pd.read_sql(\"\"\"\n",
    "            SELECT * \n",
    "            FROM info t1\n",
    "            LEFT JOIN (\n",
    "                    SELECT CUSTOMERID, SUM(Sales2019) AS Sales2019, COUNT(item_description) AS itemcnt\n",
    "                    FROM Sales2019\n",
    "                    GROUP BY CUSTOMERID) t2\n",
    "            ON t1.CustomerID = t2.CustomerID\n",
    "            WHERE CustomerID between 1001 and 1010\"\"\", conn) # ambiguous Column Name"
   ]
  },
  {
   "cell_type": "code",
   "execution_count": null,
   "id": "7ca902f4",
   "metadata": {},
   "outputs": [],
   "source": [
    "# show customer id from 1001 through 1010\n",
    "pd.read_sql(\"\"\"\n",
    "            SELECT * \n",
    "            FROM info t1\n",
    "            LEFT JOIN (\n",
    "                    SELECT CUSTOMERID, SUM(Sales2019) AS Sales2019, count(item_description) AS itemcnt\n",
    "                    FROM Sales2019\n",
    "                    GROUP BY CUSTOMERID) t2\n",
    "            ON t1.CustomerID = t2.CustomerID\n",
    "            WHERE t1.CustomerID between 1001 and 1010\"\"\", conn) "
   ]
  },
  {
   "cell_type": "code",
   "execution_count": null,
   "id": "9bca53be",
   "metadata": {},
   "outputs": [],
   "source": [
    "## ADDING WHERE, GROUP BY, and ORDER BY\n",
    "\n",
    "# show 2021 sales by Occupation outside of NY, sort by sales in desc order\n",
    "pd.read_sql(\"\"\"\n",
    "            SELECT Occupation, sum(Sales2021) as Sales\n",
    "            FROM info t1\n",
    "            LEFT JOIN (\n",
    "                    SELECT CUSTOMER_ID, SUM(Sales2021) AS Sales2021, COUNT(item_description) AS itemcnt\n",
    "                    FROM Sales2021\n",
    "                    GROUP BY CUSTOMER_ID) t2\n",
    "            ON t1.CustomerID = t2.Customer_ID\n",
    "            WHERE State <> 'NY'\n",
    "            GROUP BY Occupation\n",
    "            ORDER BY Sales desc\"\"\", conn) "
   ]
  },
  {
   "cell_type": "markdown",
   "id": "e5822de9",
   "metadata": {},
   "source": [
    "# UNION\n",
    "\n",
    "UNION can also combine two or more tables but unlike JOIN, it appends tables on top of each other. In order for UNION to work correctly, you need to specify the same number of columns appearing in the same order from each table. The columns should also be of similar data type.\n",
    "\n",
    "When can UNION be helpful? If you have similar data stored in different tables. Perhaps, data from one year is stored in one table whereas data from another year is stored in a different table, and you want to combine it in one table, that's when you would use the UNION operator.\n",
    "\n",
    "## UNION vs UNION ALL\n",
    "\n",
    "UNION: keeps unique records\n",
    "UNION ALL: keeps all records"
   ]
  },
  {
   "cell_type": "code",
   "execution_count": null,
   "id": "9ee64568",
   "metadata": {},
   "outputs": [],
   "source": [
    "#One to One join - will fail\n",
    "pd.read_sql(\"\"\"\n",
    "            SELECT * FROM Sales2019\n",
    "            UNION\n",
    "            SELECT * from Sales2020\"\"\", conn) "
   ]
  },
  {
   "cell_type": "code",
   "execution_count": null,
   "id": "98c583ba",
   "metadata": {},
   "outputs": [],
   "source": [
    "pd.read_sql(\"\"\"\n",
    "\n",
    "            SELECT CUSTOMERID, Sales2019, item_description, Date FROM Sales2019\n",
    "            UNION ALL\n",
    "            SELECT customer_id, Sales2020, item_description, YearMonth FROM Sales2020\"\"\", conn)\n",
    "\n",
    "## Union ALL and Union -> same number of records but sorted differently"
   ]
  },
  {
   "cell_type": "code",
   "execution_count": null,
   "id": "0c6f9eb6",
   "metadata": {},
   "outputs": [],
   "source": [
    "pd.read_sql(\"\"\"\n",
    "\n",
    "            SELECT CUSTOMERID, Sales2019, item_description, Date FROM Sales2019\n",
    "            UNION ALL\n",
    "            SELECT customer_id, Sales2020, item_description, YearMonth FROM Sales2020\n",
    "            UNION ALL\n",
    "            SELECT customer_id, Sales2021, item_description, YearMonth FROM Sales2021\"\"\", conn)"
   ]
  },
  {
   "cell_type": "code",
   "execution_count": null,
   "id": "43857840",
   "metadata": {},
   "outputs": [],
   "source": [
    "## Clean output\n",
    "\n",
    "pd.read_sql(\"\"\"\n",
    "\n",
    "            SELECT CUSTOMERID AS customer_id, \n",
    "                    Sales2019 AS Sales, \n",
    "                    item_description, \n",
    "                    substr(Date,7,4)||substr(Date,1,2) AS YearMonth\n",
    "            FROM Sales2019\n",
    "                UNION ALL\n",
    "            SELECT customer_id, \n",
    "                    Sales2020 AS Sales, \n",
    "                    item_description, \n",
    "                    YearMonth \n",
    "            FROM Sales2020\n",
    "                UNION ALL\n",
    "            SELECT customer_id, \n",
    "                    Sales2021 AS Sales, \n",
    "                    item_description, \n",
    "                    YearMonth \n",
    "            FROM Sales2021\n",
    "            ORDER BY customer_id, YearMonth\"\"\", conn)"
   ]
  },
  {
   "cell_type": "markdown",
   "id": "5ae93158",
   "metadata": {},
   "source": [
    "# Fuzzy Matching\n",
    "\n",
    "Sometimes you may have two tables that need to be joined on a string instead of an ID. This can be very painful! \n",
    "\n",
    "Certain variations of SQL have built-in functions that allow you to check how similar two strings are, for example, COMPGED calculates the Levenshtein distance (more on this in NLP) or the SOUNDEX function. Fuzzy matching isn't supported in SQLite\n",
    "\n",
    "[Fuzzywuzzy](https://pypi.org/project/fuzzywuzzy/) is a great Python alternative for fuzzy matching.\n",
    "\n",
    "There are also NoSQL databases that are great for entity resolution ([Elastic Search](https://www.elastic.co/elastic-stack/)).\n"
   ]
  },
  {
   "cell_type": "code",
   "execution_count": null,
   "id": "ea186396",
   "metadata": {},
   "outputs": [],
   "source": []
  },
  {
   "cell_type": "code",
   "execution_count": null,
   "id": "e0fc93e1",
   "metadata": {},
   "outputs": [],
   "source": []
  }
 ],
 "metadata": {
  "kernelspec": {
   "display_name": "Python 3 (ipykernel)",
   "language": "python",
   "name": "python3"
  },
  "language_info": {
   "codemirror_mode": {
    "name": "ipython",
    "version": 3
   },
   "file_extension": ".py",
   "mimetype": "text/x-python",
   "name": "python",
   "nbconvert_exporter": "python",
   "pygments_lexer": "ipython3",
   "version": "3.9.7"
  }
 },
 "nbformat": 4,
 "nbformat_minor": 5
}
