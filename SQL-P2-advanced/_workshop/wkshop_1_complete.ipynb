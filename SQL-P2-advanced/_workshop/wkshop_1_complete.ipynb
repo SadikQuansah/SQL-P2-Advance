{
 "cells": [
  {
   "attachments": {},
   "cell_type": "markdown",
   "id": "8fd487c7",
   "metadata": {},
   "source": [
    "# 1. Baseball Database\n",
    "\n",
    "For this workshop, you will be working with the [Baseball Database](../data/baseballdb.sqlite.zip).\n",
    "\n",
    "**1.1** Which player has had the most homeruns? List top 25 players and provide their first and last names\n",
    "\n",
    "**1.2** Which team historically has paid the highest salary on average? Your query should only output teams whose average salary is above $1M. If average salary is formatted as scientific notation, convert it to numbers, i.e. 4.291454e+06 =  4291453\n",
    "\n",
    "**1.3** Which team has the most players in the Hall of Fame? \n",
    "\n",
    "**1.4** Is there a relation between how many homeruns a player has made in a year and their salary that year? Pull Player's name, ID, Year, Salary and homeruns together in a single query. \n",
    "\n",
    "**1.5 (BONUS)** Find all birth year that appears in the people table consecutively at least three times."
   ]
  },
  {
   "cell_type": "code",
   "execution_count": 6,
   "id": "95c8b791",
   "metadata": {},
   "outputs": [],
   "source": []
  }
 ],
 "metadata": {
  "kernelspec": {
   "display_name": "Python 3 (ipykernel)",
   "language": "python",
   "name": "python3"
  },
  "language_info": {
   "codemirror_mode": {
    "name": "ipython",
    "version": 3
   },
   "file_extension": ".py",
   "mimetype": "text/x-python",
   "name": "python",
   "nbconvert_exporter": "python",
   "pygments_lexer": "ipython3",
   "version": "3.9.7"
  }
 },
 "nbformat": 4,
 "nbformat_minor": 5
}
